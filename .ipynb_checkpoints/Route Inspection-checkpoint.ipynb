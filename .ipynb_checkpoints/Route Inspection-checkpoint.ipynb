{
 "cells": [
  {
   "cell_type": "markdown",
   "metadata": {},
   "source": [
    "# IEOR 4418 Homework 2\n",
    "## By Austin Slakey\n",
    "\n",
    "### Problem 1\n",
    "Recall the Transportation Problem we discussed in class.\n",
    "\n",
    "**a) Suppose I increase the supply at some of the suppliers. How does this affect the optimal solution?**<br>\n",
    "First, we assume that the original problem is formulated with enough supply to fill demand ($\\sum{s_i} \\geq \\sum {d_j}$).  Then for the extended problem, we can assume two cases:<br>\n",
    "        1) The new supply is placed with expensive suppliers. The optimal solution will put this excess supply on the dummy demand denoted by \"z,\" and our objective function will not change (i.e. $f_{iz}$ will have some positive flow with cost = 0).<br>\n",
    "        2) The new supply is placed with cheaper suppliers, so the optimal solution will reroute more flow to these cheaper routes.  Our objective function will decrease. \n",
    "\n",
    "    \n",
    "**b) Suppose I increase the supply at some of the suppliers and the demand at some of the consumers. Does the total cost increase, decrease, or it depends. Argue your case and/or provide examples to prove your point.**<br>\n",
    "It depends.  In general, you would assume an increase in costs because more flow is being sent across a network with positive costs.  However, one can easily imagine a situation in which more supply is placed at the very cheapest suppliers.  In such a case, rerouting flow to these cheaper edges could more than make up for the overall increase in flow thereby decreasing the objective function.\n",
    "\n",
    "Below in Python code is a very simple example:\n",
    "Suppliers A and B are fully connected to Consumers D1 and D2. There is originally more supply at A, but it is much cheaper to send from B.  So, our optimal objective can actually go down even if we increase the total flow being sent from 15 to 20 units.  On the other hand, if the cost from B to the consumers was the same as A, our objective function would increase.\n"
   ]
  },
  {
   "cell_type": "code",
   "execution_count": 1,
   "metadata": {
    "collapsed": false
   },
   "outputs": [
    {
     "name": "stdout",
     "output_type": "stream",
     "text": [
      "Optimization terminated successfully.\n",
      "         Current function value: 205.000000  \n",
      "         Iterations: 4\n",
      "Original problem: 205.0\n",
      "Optimization terminated successfully.\n",
      "         Current function value: 115.000000  \n",
      "         Iterations: 5\n",
      "Increased Demand and Supply: 115.0\n"
     ]
    }
   ],
   "source": [
    "from scipy.optimize import linprog\n",
    "'''\n",
    "Cost function (does not change between scenarios)\n",
    "min 20*FA1 + 20*FA2 + 1*FB1 + 1*FB2 + 0*FAZ + 0*FBZ\n",
    "\n",
    "Original Supply and Demand\n",
    "Demand:         Supply:\n",
    "D1 = 10          A = 10\n",
    "D2 = 5           B = 5\n",
    "'''\n",
    "\n",
    "c = [20,20,1,1,0,0] #Fa1,Fa2,Fb1,Fb2,Faz,Fbz\n",
    "A = [[1, 1,0,0,1,0], [0, 0,1,1,0,1],[-1, 0,-1,0,0,0],[0, -1,0,-1,0,0]] #LHS of LS constraints (supply A, supply B, Demand 1, Demand 2)\n",
    "b = [10, 5,-10,-5] #rhs of LS constraints (supply A, supply B, Demand 1, Demand 2)\n",
    "\n",
    "first = linprog(c, A_ub=A, b_ub=b,\n",
    "               options={\"disp\": True})\n",
    "print(\"Original problem: \"+ str(first.fun)) #objective = 205. Send 10 from A and 5 from B (obviously)\n",
    "\n",
    "'''\n",
    "Increase Supply by 10 at B and Demand by 5 at D2\n",
    "Demand:         Supply:\n",
    "D1 = 10          A = 10\n",
    "D2 = 10          B = 15\n",
    "'''\n",
    "#Now increase supply at B and demand at D1\n",
    "b = [10, 15,-10,-10] #rhs of LS constraints (supply A, supply B, Demand 1, Demand 2)\n",
    "\n",
    "second = linprog(c, A_ub=A, b_ub=b,\n",
    "               options={\"disp\": True})\n",
    "print(\"Increased Demand and Supply: \"+ str(second.fun)) #objective = 115.  Now we can send 15 from B and only need 5 from A"
   ]
  },
  {
   "cell_type": "markdown",
   "metadata": {},
   "source": [
    "### PROBLEM 2\n",
    "We focus on applying the Route Inspection Problem on a real world example.<br><br>\n",
    "**a) Find a neighborhood in New York City that is strongly connected. Let nodes cor- respond to intersections and edges correspond to roads. A two way street should correspond to two edges, one in each direction. Your neighborhood (directed graph) should have at least 8 nodes. Let edge costs of the graph correspond to approximate time to travel on the edge. This can be done with educated guessing. Draw the corresponding graph and label the streets.**<br>\n",
    "I chose the streets between 1st and 2nd Avenue; Houston and 3rd street in the east village for part a) of Problem 2.  In this graph all Avenue edges have a weight of .5 and all street edges have a weight of 1 except for Houston which often has traffic.  So these 2 edges (Houston is two-ways) have a weight of 4.<br><br>"
   ]
  },
  {
   "cell_type": "code",
   "execution_count": 2,
   "metadata": {
    "collapsed": false
   },
   "outputs": [
    {
     "data": {
      "image/png": "[encoded data removed]",
      "text/plain": [
       "<matplotlib.figure.Figure at 0x1097644a8>"
      ]
     },
     "metadata": {},
     "output_type": "display_data"
    }
   ],
   "source": [
    "%matplotlib inline\n",
    "import networkx as nx\n",
    "import numpy as np\n",
    "import matplotlib.pyplot as plt\n",
    "\n",
    "G = nx.DiGraph()\n",
    "\n",
    "G.add_edges_from([('1st&Houston', '2nd&Houston'),('2nd&Houston','1st&Houston')], weight=3)\n",
    "G.add_edges_from([('1st&1st','2nd&1st'),('2nd&2nd','1st&2nd'),('1st&3rd','2nd&3rd')], weight=1)\n",
    "G.add_edges_from([('1st&Houston','1st&1st'),('2nd&Houston','2nd&1st'),('1st&1st','1st&2nd'),('1st&2nd','1st&3rd'),('2nd&3rd','2nd&2nd'),('2nd&2nd','2nd&1st')], weight=.5)\n",
    "positions = {'1st&Houston':(2,0),'2nd&Houston':(0,0),'1st&1st':(2,1),'1st&2nd':(2,2),'1st&3rd':(2,3),'2nd&1st':(0,1),'2nd&2nd':(0,2),'2nd&3rd':(0,3)}\n",
    "\n",
    "nx.draw_networkx(G,arrows=True,pos=positions) "
   ]
  },
  {
   "cell_type": "markdown",
   "metadata": {},
   "source": [
    "**b) Code the linear optimization formulation for the Route Inspection Problem (re- member to include it) and find the optimal flow. Hint: It may be easier to de- scribe your graph as a matrix like in previous homework. Then your optimization formulation should be couple lines of code if you use an optimization modeling language.**<br><br>\n"
   ]
  },
  {
   "cell_type": "code",
   "execution_count": 24,
   "metadata": {
    "collapsed": false
   },
   "outputs": [
    {
     "name": "stdout",
     "output_type": "stream",
     "text": [
      "Optimization terminated successfully.\n",
      "         Current function value: 21.000000   \n",
      "         Iterations: 18\n",
      "Optimal Objective: 21.0\n",
      "[[ 0.  2.  0.  0.  1.  0.  0.  0.]\n",
      " [ 0.  0.  1.  0.  0.  1.  0.  0.]\n",
      " [ 0.  0.  0.  2.  0.  0.  0.  0.]\n",
      " [ 0.  0.  0.  0.  0.  0.  0.  2.]\n",
      " [ 3.  0.  0.  0.  0.  0.  0.  0.]\n",
      " [ 0.  0.  0.  0.  2.  0.  0.  0.]\n",
      " [ 0.  0.  1.  0.  0.  1.  0.  0.]\n",
      " [ 0.  0.  0.  0.  0.  0.  2.  0.]]\n"
     ]
    }
   ],
   "source": [
    "#Finding the optimal path is simple. Make the lower bound on all edges = 1, preserve flow balance in nodes\n",
    "# To do this I translated this data to a matrix (just using excel) with costs of 100 on nonexistant edges\n",
    "\n",
    "#****LEGEND: 0=1st and Houston 1=1st and 1st 2=1st and 2nd 3=1st and 3rd\n",
    "#****        4=2nd and Houston 5=2nd and 1st 6=2nd and 2nd 7=2nd and 3rd \n",
    "\n",
    "from scipy.optimize import linprog\n",
    "import pandas as pd\n",
    "import numpy as np\n",
    "import random\n",
    "\n",
    "'''\n",
    "Route Inspection as NFP:\n",
    "min C_ij*F_ij\n",
    "s.t.   X_i >= 1\n",
    "       Flow in = Flow out for all nodes\n",
    "'''\n",
    "\n",
    "#read CSV file\n",
    "df = pd.read_csv(\"EastVillage.csv\",header=None)\n",
    "graph = df.as_matrix()\n",
    "\n",
    "#flatten into 1-d array of costs for simplex algo\n",
    "c = graph.flatten()\n",
    "\n",
    "#compute flow balance (sum Ax = b)\n",
    "b = [0]*len(graph) #each node has flow_in - flow_out = 0\n",
    "#This outputs a constraint for each intersection:\n",
    "# Outgoing edge = 1\n",
    "# Incoming edge = -1\n",
    "A= list() \n",
    "for i in range(len(graph)):\n",
    "    Intersection = [0]*(len(graph)**2)\n",
    "    for j in range(len(graph)):\n",
    "        if i == j: #no self serving nodes\n",
    "            continue\n",
    "        if graph[i][j]<100: #then this is an outbound edge\n",
    "            Intersection[i*len(graph)+j] = 1\n",
    "        if graph[j][i]<100: #then this is an inbound edge\n",
    "            Intersection[j*len(graph)+i] = -1\n",
    "    A.append(Intersection)\n",
    "#Bounds on edges:\n",
    "Bounds = list()\n",
    "for i in range(len(c)):\n",
    "    if c[i]!=100: #real edges must be covered\n",
    "        Bounds.append( (1,None) )\n",
    "    else: #fake edges do not need to be covered\n",
    "        Bounds.append( (0,None) )\n",
    "        \n",
    "flow = linprog(c, A_eq=A, b_eq=b,bounds=Bounds,\n",
    "               options={\"disp\": True})\n",
    "print(\"Optimal Objective: \"+ str(flow.fun))\n",
    "optimal_flow = flow.x.reshape(len(graph),len(graph))\n",
    "print(optimal_flow)"
   ]
  },
  {
   "cell_type": "markdown",
   "metadata": {},
   "source": [
    "**c) Convert your flow to an optimal route, and show your work.**<br>"
   ]
  },
  {
   "cell_type": "code",
   "execution_count": 25,
   "metadata": {
    "collapsed": false
   },
   "outputs": [
    {
     "name": "stdout",
     "output_type": "stream",
     "text": [
      "Cycles: \n",
      "[{2: [3, 0], 3: [7, 0], 6: [2, 0], 7: [6, 0]}, {0: [1, 0], 1: [2, 0], 2: [3, 0], 3: [7, 0], 4: [0, 0], 5: [4, 0], 6: [5, 0], 7: [6, 0]}, {0: [1, 0], 1: [5, 0], 4: [0, 0], 5: [4, 0]}, {0: [4, 0], 4: [0, 0]}]\n"
     ]
    }
   ],
   "source": [
    "'''\n",
    "Create Route from Optimal Flow\n",
    "\n",
    "This algorithm is a little tricky to set up, \n",
    "but after that it is fairly straight forward\n",
    "\n",
    "We need input of an optimal flow matrix\n",
    "1) Go through matrix finding cycles W1,W2,...,Wn\n",
    "\n",
    "Data Structs:\n",
    "\n",
    "ordered dictionary - For each cycle create an ordered dictionary (a list has the next key)\n",
    "that will count how many times we have visited\n",
    "unvisited set - set of unvisited cycles\n",
    "S - stack of visited cycles\n",
    "i - the path\n",
    "\n",
    "2) Algorithm\n",
    "initialize S = W1, W = W1 i = random node from W\n",
    "while S not empty:\n",
    "    Let i next node in W (and append it to path)\n",
    "    if i has been visited on current cycle:\n",
    "        S = S\\W\n",
    "        W = last cycle added to S\n",
    "    if i is in new cycle W':\n",
    "        add W' to S\n",
    "        W = W'\n",
    "'''\n",
    "#STEP 1) Save Cycles\n",
    "#create cycle dictionary {key:[node_to,times visited]}\n",
    "def find_cycle(path,last,edges,Cycles):\n",
    "    cycle = dict()\n",
    "    while True:\n",
    "        next_node = path[last]\n",
    "        cycle[last] = [next_node,0]\n",
    "        edges[last][next_node] = edges[last][next_node]-1\n",
    "        if next_node in cycle.keys(): #we finished a cycle\n",
    "            break\n",
    "        last = next_node\n",
    "        \n",
    "    Cycles.append(cycle)\n",
    "    return (Cycles,edges)\n",
    "\n",
    "Cycles = list()\n",
    "#search for cycle\n",
    "g_copy = np.copy(optimal_flow)\n",
    "#print(\"Optimal Flow Matrix\")\n",
    "#print(g_copy)\n",
    "starting_nodes= set(range(len(graph)))\n",
    "while len(starting_nodes)!=0:\n",
    "    \n",
    "    start = random.choice(tuple(starting_nodes))\n",
    "    path = dict()\n",
    "    i = start\n",
    "    j = 0\n",
    "    while j < len(g_copy):\n",
    "        if g_copy[i][j] > 0: #Go to j\n",
    "            path[i] = j\n",
    "            if j in path.keys(): #we just found a cycle\n",
    "                Cycles,g_copy = find_cycle(path,j,g_copy,Cycles) #add cycle to Cycles list, and delete those edges\n",
    "                break\n",
    "            i = j\n",
    "            j = 0\n",
    "            continue\n",
    "        j+=1\n",
    "    starting_nodes= set(np.where(np.sum(g_copy, axis=1)>0)[0])\n",
    "#print(\"all Edges Used\")\n",
    "#print(g_copy) \n",
    "print(\"Cycles: \")\n",
    "print(Cycles)"
   ]
  },
  {
   "cell_type": "code",
   "execution_count": 26,
   "metadata": {
    "collapsed": false
   },
   "outputs": [
    {
     "name": "stdout",
     "output_type": "stream",
     "text": [
      "[6, 2, 3, 7, 6, 5, 4, 0, 4, 0, 1, 5, 4, 0, 1, 2, 3, 7, 6]\n"
     ]
    }
   ],
   "source": [
    "#STEP 2) The Algorithm\n",
    "\n",
    "S = list()\n",
    "path = list()\n",
    "Unvisited = set()\n",
    "\n",
    "#initialze variables\n",
    "for i in range(len(Cycles)):\n",
    "    Unvisited.add(i)\n",
    "S.append(Cycles[0])\n",
    "Unvisited.remove(0)\n",
    "i = random.choice(tuple(S[-1].keys()))\n",
    "path.append(i)\n",
    "\n",
    "while len(S)>0:\n",
    "    W = -1\n",
    "    S[W][i][1] = S[W][i][1] + 1\n",
    "    i = S[-1][i][0]\n",
    "    path.append(i)\n",
    "    #print(path)\n",
    "    if S[W][i][1] > 0: #we have visited on this cycle\n",
    "        S.pop()\n",
    "        #print(\"one cycle down\")\n",
    "    for j in Unvisited:\n",
    "        if i in Cycles[j].keys(): #i is in a new cycle. Lets start traversing that\n",
    "            S.append(Cycles[j])\n",
    "            Unvisited.remove(j)\n",
    "            #print(\"on new cycle\")\n",
    "            break\n",
    "print(path) #that works!"
   ]
  },
  {
   "cell_type": "markdown",
   "metadata": {},
   "source": [
    "### PROBLEM 3\n",
    "3. Consider the following variations of the Route Inspection problem.<br><br>\n",
    "**a) Suppose we have two trucks instead of one. What should be our objective?**<br>\n",
    "This is known as the K-Chinese Postman problem, and there are two approaches.  The first is to minimize the total cost of k paths which must cover all edges at least once.  There are algorithms that solve this in Poly time, but there is no restriction on assigning some paths = 0.  The other method which has been proven to be NP-complete is to minimize the maximum cost of k paths.<br><br>\n",
    "**b) Provide a seemingly reasonable heuristic to part a) that uses our algorithm for one truck.**<br>\n",
    "There is a simple 3-approximation algorithm:<br>\n",
    "1) compute P (the optimal solution to the Route Inspection Problem) with cost C<br>\n",
    "2) let A = C/k<br>\n",
    "3) i = 1; Solution = $\\emptyset$<br>\n",
    "While cost(P) > A:<br>\n",
    "    add path W = [vi -> vj] so that cost(W) is larger than A to Solution<br>\n",
    "    P = P\\W; i = j<br>\n",
    "    End While<br>\n",
    "    Solution $\\cup$ P<br><br>\n",
    "Proof of 3-OPT:<br>\n",
    " &emsp;Let $\\lambda^* = OPT$ for the kth postman<br>\n",
    " &emsp;Then $ c(E) \\leq k \\lambda^* $<br>\n",
    " &emsp;Because we double some edges for CPP: $ c(P) \\leq 2 c(E) $<br>\n",
    " &emsp;Then it follows that $ A \\leq 2 \\lambda^* $<br>\n",
    " &emsp;Finally, any path_k in Solution has cost at most A plus any last edge with with at most $\\lambda^*$<br>\n",
    " &emsp;$\\therefore$ Solution = 3-OPT<br><br>\n",
    "**c) Implement your idea from part b) on the graph you constructed in Question 2.**<br>"
   ]
  },
  {
   "cell_type": "code",
   "execution_count": 30,
   "metadata": {
    "collapsed": false
   },
   "outputs": [
    {
     "name": "stdout",
     "output_type": "stream",
     "text": [
      "2 paths:  [[6, 2, 3, 7, 6, 5, 4, 0, 4, 0], [0, 1, 5, 4, 0, 1, 2, 3, 7, 6]]\n"
     ]
    }
   ],
   "source": [
    "'''\n",
    "k-CPP\n",
    "\n",
    "Input: \n",
    "k (integer), G (graph in matrix form), \n",
    "obj_fun of CPP, path of CPP (in array)\n",
    "\n",
    "Output: List of k paths (lists)\n",
    "'''\n",
    "def kCPP(k,G,obj_fun,CPP_path):\n",
    "    S = list()\n",
    "    A = obj_fun/k\n",
    "\n",
    "    while obj_fun > A:\n",
    "        cost= 0\n",
    "        kpath = list()\n",
    "        kpath.append(CPP_path[0])\n",
    "        for i in range(len(CPP_path)):\n",
    "            current_node = CPP_path[i]\n",
    "            next_node = CPP_path[i+1]\n",
    "            kpath.append(next_node)\n",
    "            cost += graph[current_node][next_node]\n",
    "            obj_fun -= graph[current_node][next_node]\n",
    "            if cost >= A:\n",
    "                S.append(kpath)\n",
    "                CPP_path = CPP_path[i+1:]\n",
    "                break\n",
    "    S.append(CPP_path)\n",
    "    return(S)\n",
    "    \n",
    "obj_fun = flow.fun\n",
    "kCPP_paths = kCPP(2,graph,obj_fun,path)\n",
    "print(\"2 paths: \",kCPP_paths)"
   ]
  },
  {
   "cell_type": "markdown",
   "metadata": {},
   "source": [
    "### PROBLEM 4\n",
    "Recall the Traveling Salesman Problem and the heuristics we developed.<br>\n",
    "**a) Create a graph where the nearest neighbor heuristic fails. In other words, the final result of the heuristic should not be the shortest Hamiltonian cycle.**<br>\n",
    "A simple, fully connected Graph of three sequential nodes shows how the Nearest Neighbor Heuristic can fail. The shortest path is 1,2,3.  However, Nearest Neighbor can randomly start from 2 and will choose the path 2,3,1.\n"
   ]
  },
  {
   "cell_type": "code",
   "execution_count": 66,
   "metadata": {
    "collapsed": false
   },
   "outputs": [
    {
     "name": "stdout",
     "output_type": "stream",
     "text": [
      "original graph (Note the x and y dimensions!)\n"
     ]
    },
    {
     "data": {
      "image/png": "[encoded data removed]",
      "text/plain": [
       "<matplotlib.figure.Figure at 0x1144745c0>"
      ]
     },
     "metadata": {},
     "output_type": "display_data"
    }
   ],
   "source": [
    "%matplotlib inline\n",
    "import networkx as nx\n",
    "import numpy as np\n",
    "import matplotlib.pyplot as plt\n",
    "\n",
    "f = plt.figure()\n",
    "ax = f.add_subplot(1,1,1)\n",
    "ax2 = f.add_subplot(1,1,1)\n",
    "\n",
    "G = nx.DiGraph()\n",
    "G.add_edges_from([('1','2'),('2','3')], weight=1)\n",
    "G.add_edges_from([('1','3')], weight=2)\n",
    "S = nx.DiGraph()\n",
    "S.add_edges_from([('1','2'),('2','3')], weight=1)\n",
    "NN = nx.DiGraph()\n",
    "NN.add_edges_from([('2','3')], weight=1)\n",
    "NN.add_edges_from([('3','1')], weight=2)\n",
    "positions = {'1':(0,.1),'2':(1,0),'3':(2,0)}\n",
    "print(\"original graph (Note the x and y dimensions!)\")\n",
    "nx.draw_networkx(G,arrows=False,pos=positions)"
   ]
  },
  {
   "cell_type": "code",
   "execution_count": 69,
   "metadata": {
    "collapsed": false
   },
   "outputs": [
    {
     "name": "stdout",
     "output_type": "stream",
     "text": [
      "shortest path would be [1,2,3] = 2.005:\n"
     ]
    },
    {
     "data": {
      "image/png": "[encoded data removed]",
      "text/plain": [
       "<matplotlib.figure.Figure at 0x114471358>"
      ]
     },
     "metadata": {},
     "output_type": "display_data"
    }
   ],
   "source": [
    "#Shortest Path\n",
    "print(\"shortest path would be [1,2,3] = 2.005:\")\n",
    "nx.draw_networkx(S,arrows=True,pos=positions) "
   ]
  },
  {
   "cell_type": "code",
   "execution_count": 70,
   "metadata": {
    "collapsed": false
   },
   "outputs": [
    {
     "name": "stdout",
     "output_type": "stream",
     "text": [
      "Nearest Neighbor path = 3.002\n"
     ]
    },
    {
     "data": {
      "image/png": "[encoded data removed]",
      "text/plain": [
       "<matplotlib.figure.Figure at 0x114351e10>"
      ]
     },
     "metadata": {},
     "output_type": "display_data"
    }
   ],
   "source": [
    "#Nearest Neighbor\n",
    "print(\"Nearest Neighbor path = 3.002\")\n",
    "nx.draw_networkx(NN,arrows=True,pos=positions) "
   ]
  },
  {
   "cell_type": "markdown",
   "metadata": {},
   "source": [
    "**b) Create a graph where the 2-opt heuristic fails. In other words, first find a feasible solution on your graph. Then run 2-opt until you get stuck, but the final solution is not the shortest Hamiltonian cycle.**"
   ]
  },
  {
   "cell_type": "code",
   "execution_count": null,
   "metadata": {
    "collapsed": true
   },
   "outputs": [],
   "source": []
  }
 ],
 "metadata": {
  "anaconda-cloud": {},
  "kernelspec": {
   "display_name": "Python [Root]",
   "language": "python",
   "name": "Python [Root]"
  },
  "language_info": {
   "codemirror_mode": {
    "name": "ipython",
    "version": 3
   },
   "file_extension": ".py",
   "mimetype": "text/x-python",
   "name": "python",
   "nbconvert_exporter": "python",
   "pygments_lexer": "ipython3",
   "version": "3.5.2"
  }
 },
 "nbformat": 4,
 "nbformat_minor": 0
}
